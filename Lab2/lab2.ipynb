{
 "cells": [
  {
   "cell_type": "markdown",
   "id": "0fe5eb2b",
   "metadata": {},
   "source": [
    "<h2 align=\"center\">Лабораторна робота №2</h2>"
   ]
  },
  {
   "cell_type": "markdown",
   "id": "cb0e5483",
   "metadata": {},
   "source": [
    "#### **Мета роботи:**\n",
    "Навчитись застосовувати симплекс-метод для вирішення оптимізаційних задач.\n",
    "\n",
    "\n",
    "\n",
    "#### **Завдання роботи:**\n",
    "Визначити максимально ефективний розв'язок за відповідних умов обмежень."
   ]
  },
  {
   "cell_type": "markdown",
   "id": "0dbf5423",
   "metadata": {},
   "source": [
    "#### **Завдання варіанту №1**\n",
    "\n",
    "$z = 2x_1 - x_2 + 3x_3 - 2x_4 + x_5 (max)$\n",
    "\n",
    "$\n",
    "\\begin{cases} \n",
    "    -1x_1 + 1x_2 + 1x_3 + 0x_4 + 0x_5 = 1\\\\ \n",
    "    \\hspace{0.3cm} 1x_1 - 1x_2 + 0x_3 + 1x_4 + 0x_5 = 1\\\\\n",
    "    \\hspace{0.3cm} 1x_1 + 1x_2 + 0x_3 + 0x_4 + 1x_5 = 2\n",
    "\\end{cases}\n",
    "$\n",
    "\n",
    "$C = \n",
    "\\begin{bmatrix}\n",
    "    2 & -1 & 3 & -2 & 1\n",
    "\\end{bmatrix}\n",
    "$\n",
    "\n",
    "$A = \n",
    "\\begin{bmatrix}\n",
    "    -1 &  \\hspace{0.3cm}1 & 1 & 0 & 0\\\\\n",
    "     \\hspace{0.3cm}1 & -1 & 0 & 1 & 0\\\\\n",
    "     \\hspace{0.3cm}1 &  \\hspace{0.3cm}1 & 0 & 0 & 1\n",
    "\\end{bmatrix}\n",
    "$\n",
    "\n",
    "$b = \n",
    "\\begin{bmatrix}\n",
    "    1 & 1 & 2\n",
    "\\end{bmatrix}^T\n",
    "$"
   ]
  },
  {
   "cell_type": "code",
   "execution_count": 22,
   "id": "a5d01d93",
   "metadata": {},
   "outputs": [],
   "source": [
    "import numpy as np\n",
    "import copy\n",
    "\n",
    "C = np.array([2, -1, 3, -2, 1])\n",
    "A = np.array([[-1,  1, 1, 0, 0], \n",
    "              [ 1, -1, 0, 1, 0], \n",
    "              [ 1,  1, 0, 0, 1]])\n",
    "b = np.array([1, 1, 2])"
   ]
  },
  {
   "cell_type": "code",
   "execution_count": 23,
   "id": "d0638502",
   "metadata": {},
   "outputs": [
    {
     "data": {
      "text/plain": [
       "array([1, 0, 0])"
      ]
     },
     "execution_count": 23,
     "metadata": {},
     "output_type": "execute_result"
    }
   ],
   "source": [
    "A[..., 2]"
   ]
  },
  {
   "cell_type": "code",
   "execution_count": 24,
   "id": "f0819fd3",
   "metadata": {},
   "outputs": [
    {
     "name": "stdout",
     "output_type": "stream",
     "text": [
      "[-1  1  1]\n",
      "[ 1 -1  1]\n",
      "[1 0 0]\n",
      "[0 1 0]\n",
      "[0 0 1]\n"
     ]
    },
    {
     "data": {
      "text/plain": [
       "(3, 5)"
      ]
     },
     "execution_count": 24,
     "metadata": {},
     "output_type": "execute_result"
    }
   ],
   "source": [
    "unique, counts = np.unique(A[...,3], return_counts=True)\n",
    "# print((unique == [0, 1]).all())\n",
    "# print(counts[1] == 1)\n",
    "# a = np.where(A[..., 4]==1)\n",
    "# print(a)\n",
    "for i in A.T:\n",
    "    print(i)\n",
    "A.shape"
   ]
  },
  {
   "cell_type": "code",
   "execution_count": 25,
   "id": "b3d80048",
   "metadata": {},
   "outputs": [],
   "source": [
    "def find_basis(A: np.ndarray) -> np.ndarray:        # повертає список елементів які складають базис\n",
    "    res = np.zeros(A.shape[0])\n",
    "    for i in range(A.shape[1]):\n",
    "        unique, counts = np.unique(A[..., i], return_counts=True)\n",
    "        if (unique == [0, 1]).all() and counts[1] == 1:\n",
    "            index = np.where(A[..., i]==1)[0][0]\n",
    "            res[index] = i\n",
    "    return np.array(res).astype(int)"
   ]
  },
  {
   "cell_type": "code",
   "execution_count": 26,
   "id": "87d9f5cf",
   "metadata": {},
   "outputs": [
    {
     "data": {
      "text/plain": [
       "array([2, 3, 4])"
      ]
     },
     "execution_count": 26,
     "metadata": {},
     "output_type": "execute_result"
    }
   ],
   "source": [
    "find_basis(A)"
   ]
  },
  {
   "cell_type": "code",
   "execution_count": 27,
   "id": "2b4cbe55",
   "metadata": {},
   "outputs": [
    {
     "data": {
      "text/plain": [
       "array([ 3, -2,  1])"
      ]
     },
     "execution_count": 27,
     "metadata": {},
     "output_type": "execute_result"
    }
   ],
   "source": [
    "C[find_basis(A)]"
   ]
  },
  {
   "cell_type": "code",
   "execution_count": 28,
   "id": "66e8790c",
   "metadata": {},
   "outputs": [],
   "source": [
    "def get_delta(A: np.ndarray, Cb: np.ndarray, c: np.ndarray) -> np.ndarray:\n",
    "    delta = []\n",
    "    for i in range(A.shape[1]):\n",
    "        delta.append(np.inner(A[..., i], Cb) - c[i])\n",
    "    return np.array(delta)"
   ]
  },
  {
   "cell_type": "code",
   "execution_count": 29,
   "id": "411a6097",
   "metadata": {},
   "outputs": [
    {
     "name": "stdout",
     "output_type": "stream",
     "text": [
      "[-6  7  0  0  0]\n"
     ]
    },
    {
     "data": {
      "text/plain": [
       "np.int64(0)"
      ]
     },
     "execution_count": 29,
     "metadata": {},
     "output_type": "execute_result"
    }
   ],
   "source": [
    "delta = get_delta(A, C[find_basis(A)], C)\n",
    "print(delta)\n",
    "np.where(delta == delta.min())[0][0]"
   ]
  },
  {
   "cell_type": "code",
   "execution_count": 30,
   "id": "6a3a6641",
   "metadata": {},
   "outputs": [],
   "source": [
    "def get_Xb_Xr(Xb: np.ndarray, Xr: np.ndarray) -> np.ndarray:\n",
    "    res = []\n",
    "    for i in range(Xb.size):\n",
    "        res.append(Xb[i]/Xr[i])\n",
    "    return np.array(res)"
   ]
  },
  {
   "cell_type": "code",
   "execution_count": 31,
   "id": "1a16a237",
   "metadata": {},
   "outputs": [
    {
     "data": {
      "text/plain": [
       "np.float64(1.0)"
      ]
     },
     "execution_count": 31,
     "metadata": {},
     "output_type": "execute_result"
    }
   ],
   "source": [
    "xxbr = get_Xb_Xr(b, A[..., 0])\n",
    "xxbr[np.where(xxbr>=0)].min()"
   ]
  },
  {
   "cell_type": "code",
   "execution_count": 32,
   "id": "ef2881f7",
   "metadata": {},
   "outputs": [],
   "source": [
    "def get_new_el(a11, a12, a21, a22):\n",
    "    return a11 - (a12*a21)/a22"
   ]
  },
  {
   "cell_type": "code",
   "execution_count": 33,
   "id": "b676d047",
   "metadata": {},
   "outputs": [],
   "source": [
    "def get_x_(basis: np.ndarray, Xb: np.ndarray, n: int):\n",
    "    res = []\n",
    "    for i in range(n):\n",
    "        if i in basis:\n",
    "            res.append(Xb[np.where(basis==i)[0][0]])\n",
    "        else:\n",
    "            res.append(0)\n",
    "    return np.array(res)"
   ]
  },
  {
   "cell_type": "code",
   "execution_count": 34,
   "id": "bed0c1ee",
   "metadata": {},
   "outputs": [
    {
     "data": {
      "text/plain": [
       "np.int64(-1)"
      ]
     },
     "execution_count": 34,
     "metadata": {},
     "output_type": "execute_result"
    }
   ],
   "source": [
    "A[1, 1]"
   ]
  },
  {
   "cell_type": "code",
   "execution_count": 51,
   "id": "5e9183db",
   "metadata": {},
   "outputs": [],
   "source": [
    "def simplex(c, A, b):           # працює тільки для канонічної форми\n",
    "    # start things ^^\n",
    "    A = A.astype(np.float64)\n",
    "    basis = find_basis(A)\n",
    "    Xb = b\n",
    "    delta = get_delta(A, c[basis], c)\n",
    "    print(delta)\n",
    "    old_A = A\n",
    "    while (delta < 0).any():\n",
    "        print(f\"A:{A}\")\n",
    "        index_c = np.where(delta == delta.min())[0][0]\n",
    "        Xb_Xr = get_Xb_Xr(Xb, A[..., index_c])\n",
    "        index_basis = np.where(Xb_Xr == Xb_Xr[np.where(Xb_Xr>=0)].min())[0][0]\n",
    "        print(f\"index_basis:{index_basis}\")\n",
    "        print(f\"index_c:{index_c}\")\n",
    "        \n",
    "        A[..., index_c] = A[..., basis[index_basis]]\n",
    "        basis[index_basis] = index_c\n",
    "\n",
    "        \n",
    "        a = old_A[index_basis, index_c]\n",
    "        Xb[index_basis] /= a\n",
    "        A[index_basis, ...] /= a\n",
    "        print(f\"A{A}\")\n",
    "        \n",
    "        for i in range(Xb.shape[0]):\n",
    "            if i != index_basis:\n",
    "                Xb[i] = get_new_el(Xb[i], old_A[i, index_c], Xb[index_basis], a)\n",
    "            print(f\"Xb{old_A[i, index_c]}\")\n",
    "        \n",
    "        \n",
    "        for i in range(A.shape[0]):\n",
    "            for j in range(A.shape[1]):\n",
    "                if i!=index_basis and j!=index_c and j not in basis:\n",
    "                    A[i, j] = get_new_el(old_A[i, j], old_A[i, index_c], old_A[index_basis, j], a)\n",
    "        \n",
    "        delta = get_delta(A, c[basis], c)\n",
    "        print(A)\n",
    "        print(delta)\n",
    "        old_A = A\n",
    "    \n",
    "    res_x = get_x_(basis, Xb, c.shape[0])\n",
    "    return res_x, np.inner(res_x, c)"
   ]
  },
  {
   "cell_type": "code",
   "execution_count": 52,
   "id": "4cf0ea05",
   "metadata": {},
   "outputs": [
    {
     "name": "stdout",
     "output_type": "stream",
     "text": [
      "[-6.  7.  0.  0.  0.]\n",
      "A:[[-1.  1.  1.  0.  0.]\n",
      " [ 1. -1.  0.  1.  0.]\n",
      " [ 1.  1.  0.  0.  1.]]\n",
      "index_basis:1\n",
      "index_c:0\n",
      "A[[ 0.  1.  1.  0.  0.]\n",
      " [ 1. -1.  0.  1.  0.]\n",
      " [ 0.  1.  0.  0.  1.]]\n",
      "Xb0.0\n",
      "Xb1.0\n",
      "Xb0.0\n",
      "[[ 0.  1.  1.  0.  0.]\n",
      " [ 1. -1.  0.  1.  0.]\n",
      " [ 0.  1.  0.  0.  1.]]\n",
      "[0. 3. 0. 4. 0.]\n"
     ]
    },
    {
     "data": {
      "text/plain": [
       "(array([1, 0, 1, 0, 2]), np.int64(7))"
      ]
     },
     "execution_count": 52,
     "metadata": {},
     "output_type": "execute_result"
    }
   ],
   "source": [
    "simplex(C, A, b)"
   ]
  },
  {
   "cell_type": "code",
   "execution_count": null,
   "id": "09ee142f",
   "metadata": {},
   "outputs": [],
   "source": []
  }
 ],
 "metadata": {
  "kernelspec": {
   "display_name": "venv_lab2",
   "language": "python",
   "name": "python3"
  },
  "language_info": {
   "codemirror_mode": {
    "name": "ipython",
    "version": 3
   },
   "file_extension": ".py",
   "mimetype": "text/x-python",
   "name": "python",
   "nbconvert_exporter": "python",
   "pygments_lexer": "ipython3",
   "version": "3.12.1"
  }
 },
 "nbformat": 4,
 "nbformat_minor": 5
}
